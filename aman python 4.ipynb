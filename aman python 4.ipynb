{
 "cells": [
  {
   "cell_type": "markdown",
   "metadata": {},
   "source": [
    "### standard libraries\n",
    "- File 1/10 <br>\n",
    "- Regular expression <br>\n",
    "- Date time <br>\n",
    "- Math(numerical and mathematical) <br>"
   ]
  },
  {
   "cell_type": "markdown",
   "metadata": {},
   "source": [
    "### file handling in python\n",
    "* file:-document contaning information resides on the permanent storage .<br>\n",
    "* different types of files:-txt,doc,pdf,csvand etc  <br>\n",
    "* inoput and output <br>\n",
    "* output-file\n",
    "\n",
    "### modules of the file i/o\n",
    "* 'w' -this mode is used to file writing <br>\n",
    " - if files not present it creates the files and write the data in to it <br>"
   ]
  },
  {
   "cell_type": "code",
   "execution_count": 20,
   "metadata": {},
   "outputs": [
    {
     "name": "stdout",
     "output_type": "stream",
     "text": [
      "file is created and data is written\n"
     ]
    }
   ],
   "source": [
    "#function to create a FILE AND WRITE to the file \n",
    "def createfile(filename):\n",
    "    f=open(filename,'w')\n",
    "    for i in range(10):\n",
    "        f.write('this is %f line '%i)\n",
    "    print(\"file is created and data is written\")\n",
    "    return\n",
    "createfile('file.txt')"
   ]
  },
  {
   "cell_type": "code",
   "execution_count": 21,
   "metadata": {},
   "outputs": [
    {
     "name": "stdout",
     "output_type": "stream",
     "text": [
      "File is created and successfully data has written\n"
     ]
    }
   ],
   "source": [
    "def appenddata(filename):\n",
    "    f = open(filename,'a')\n",
    "    for i in range(10):\n",
    "        f.write(\"This is %d Line\\n\" % i)\n",
    "    print(\"File is created and successfully data has written\")\n",
    "    return\n",
    "appenddata('file2.txt')"
   ]
  },
  {
   "cell_type": "code",
   "execution_count": null,
   "metadata": {},
   "outputs": [],
   "source": []
  },
  {
   "cell_type": "code",
   "execution_count": 22,
   "metadata": {},
   "outputs": [
    {
     "name": "stdout",
     "output_type": "stream",
     "text": [
      "new line 1 \n",
      "new line 2 \n",
      "new line 1 \n",
      "new line 2 \n",
      "new line 1 \n",
      "new line 2 \n",
      "new line 1 \n",
      "new line 2 \n",
      "new line 1 \n",
      "new line 2 \n",
      "new line 1 \n",
      "new line 2 \n",
      "new line 1 \n",
      "new line 2 \n",
      "new line 1 \n",
      "new line 2 \n",
      "new line 1 \n",
      "new line 2 \n",
      "new line 1 \n",
      "new line 2 \n",
      "This is 0 Line\n",
      "This is 1 Line\n",
      "This is 2 Line\n",
      "This is 3 Line\n",
      "This is 4 Line\n",
      "This is 5 Line\n",
      "This is 6 Line\n",
      "This is 7 Line\n",
      "This is 8 Line\n",
      "This is 9 Line\n",
      "\n"
     ]
    }
   ],
   "source": [
    "# function to read of the file\n",
    "def readfiledata(filename):\n",
    "    f = open(filename,'r')\n",
    "    if f.mode == 'r':\n",
    "        x = f.read()\n",
    "        print(x)\n",
    "    f.close()\n",
    "    return\n",
    "readfiledata('file2.txt')"
   ]
  },
  {
   "cell_type": "code",
   "execution_count": null,
   "metadata": {},
   "outputs": [],
   "source": []
  },
  {
   "cell_type": "code",
   "execution_count": 23,
   "metadata": {},
   "outputs": [
    {
     "name": "stdout",
     "output_type": "stream",
     "text": [
      "Enter the file namefile2.txt\n",
      "Enter ther mode of the filer\n",
      "new line 1 \n",
      "new line 2 \n",
      "new line 1 \n",
      "new line 2 \n",
      "new line 1 \n",
      "new line 2 \n",
      "new line 1 \n",
      "new line 2 \n",
      "new line 1 \n",
      "new line 2 \n",
      "new line 1 \n",
      "new line 2 \n",
      "new line 1 \n",
      "new line 2 \n",
      "new line 1 \n",
      "new line 2 \n",
      "new line 1 \n",
      "new line 2 \n",
      "new line 1 \n",
      "new line 2 \n",
      "This is 0 Line\n",
      "This is 1 Line\n",
      "This is 2 Line\n",
      "This is 3 Line\n",
      "This is 4 Line\n",
      "This is 5 Line\n",
      "This is 6 Line\n",
      "This is 7 Line\n",
      "This is 8 Line\n",
      "This is 9 Line\n",
      "\n"
     ]
    }
   ],
   "source": [
    "# Fuction to read the file\n",
    "def fileOperations(filename,mode):\n",
    "   with open(filename,mode) as f:\n",
    "       if f.mode == 'r':\n",
    "           data = f.read()\n",
    "           print(data)\n",
    "       elif f.mode == 'a':\n",
    "           f.write('Data to the file')\n",
    "           print('The data successfully written')\n",
    "   f.close()\n",
    "   return\n",
    "filename = input('Enter the file name')\n",
    "mode = input('Enter ther mode of the file')\n",
    "fileOperations(filename,mode)"
   ]
  },
  {
   "cell_type": "code",
   "execution_count": 24,
   "metadata": {},
   "outputs": [
    {
     "name": "stdout",
     "output_type": "stream",
     "text": [
      "Enter the file name : file2.txt\n",
      "Enter the word : this\n"
     ]
    },
    {
     "data": {
      "text/plain": [
       "0"
      ]
     },
     "execution_count": 24,
     "metadata": {},
     "output_type": "execute_result"
    }
   ],
   "source": [
    "# Data Analysis\n",
    "# Word Count Program\n",
    "def wordCount(filename,word):\n",
    "    with open(filename,'r') as f:\n",
    "        if f.mode =='r':\n",
    "            x = f.read()\n",
    "            li = x.split()\n",
    "    cnt = li.count(word)\n",
    "    return cnt\n",
    "filename = input('Enter the file name : ')\n",
    "word = input('Enter the word : ')\n",
    "wordCount(filename,word)"
   ]
  },
  {
   "cell_type": "code",
   "execution_count": 27,
   "metadata": {},
   "outputs": [
    {
     "name": "stdout",
     "output_type": "stream",
     "text": [
      "enterthe filename:file2.txt\n"
     ]
    },
    {
     "data": {
      "text/plain": [
       "390"
      ]
     },
     "execution_count": 27,
     "metadata": {},
     "output_type": "execute_result"
    }
   ],
   "source": [
    "def charcount(filename):\n",
    "    with open(filename,'r') as f:\n",
    "        if f.mode=='r':\n",
    "            x=f.read()\n",
    "            li=list(x)\n",
    "    return len(li)\n",
    "filename=input('enterthe filename:')\n",
    "charcount(filename)\n",
    "    "
   ]
  },
  {
   "cell_type": "code",
   "execution_count": 28,
   "metadata": {},
   "outputs": [
    {
     "name": "stdout",
     "output_type": "stream",
     "text": [
      "Enter the filename:file2.txt\n"
     ]
    },
    {
     "data": {
      "text/plain": [
       "31"
      ]
     },
     "execution_count": 28,
     "metadata": {},
     "output_type": "execute_result"
    }
   ],
   "source": [
    "def countoflines(filename):\n",
    "    with open(filename,'r') as f:\n",
    "        if f.mode=='r':\n",
    "            x=f.read()\n",
    "            li=x.split(\"\\n\")\n",
    "    return len(li)\n",
    "filename=input('Enter the filename:')\n",
    "countoflines(filename)    "
   ]
  },
  {
   "cell_type": "code",
   "execution_count": null,
   "metadata": {},
   "outputs": [],
   "source": []
  },
  {
   "cell_type": "code",
   "execution_count": 31,
   "metadata": {},
   "outputs": [
    {
     "name": "stdout",
     "output_type": "stream",
     "text": [
      "Enter the file name :file2.txt\n"
     ]
    },
    {
     "data": {
      "text/plain": [
       "' upper case = 20 , lower case = 220 '"
      ]
     },
     "execution_count": 31,
     "metadata": {},
     "output_type": "execute_result"
    }
   ],
   "source": [
    "# Function to print upper and lower case charecters\n",
    "def casecount(filename):\n",
    "    cntupper = 0\n",
    "    cntlower = 0\n",
    "    with open(filename,'r') as f:\n",
    "        if f.mode == 'r':\n",
    "            x = f.read()\n",
    "            li = list(x)\n",
    "    for i in li:\n",
    "        if i.isupper():\n",
    "            cntupper += 1\n",
    "        elif i.islower():\n",
    "            cntlower += 1\n",
    "    output = ' upper case = {0} , lower case = {1} '.format(cntupper,cntlower)\n",
    "    return output\n",
    "filename = input('Enter the file name :')\n",
    "casecount(filename)"
   ]
  },
  {
   "cell_type": "code",
   "execution_count": 32,
   "metadata": {},
   "outputs": [
    {
     "name": "stdout",
     "output_type": "stream",
     "text": [
      " Volume in drive C has no label.\n",
      " Volume Serial Number is 48A3-53C6\n",
      "\n",
      " Directory of C:\\Users\\220\n",
      "\n",
      "11-07-2019  12:47    <DIR>          .\n",
      "11-07-2019  12:47    <DIR>          ..\n",
      "21-06-2019  04:29    <DIR>          .anaconda\n",
      "23-06-2019  15:05    <DIR>          .conda\n",
      "27-06-2019  09:32                43 .condarc\n",
      "11-07-2019  09:45    <DIR>          .ipynb_checkpoints\n",
      "21-06-2019  04:51    <DIR>          .ipython\n",
      "24-06-2019  10:00    <DIR>          .jupyter\n",
      "10-07-2019  15:27            13,306 aman python 3.ipynb\n",
      "11-07-2019  12:47             8,912 aman python 4.ipynb\n",
      "09-07-2019  15:46            10,372 aman python2.ipynb\n",
      "05-06-2019  23:01    <DIR>          Contacts\n",
      "27-06-2019  17:12             3,507 date 11.ipynb\n",
      "23-06-2019  09:54             2,707 day 7.ipynb\n",
      "23-06-2019  09:56             2,707 day7.ipynb\n",
      "23-06-2019  12:05             6,260 day7-Copy1.ipynb\n",
      "06-07-2019  16:15    <DIR>          Desktop\n",
      "27-06-2019  16:38    <DIR>          Documents\n",
      "08-07-2019  12:23    <DIR>          Downloads\n",
      "22-06-2019  05:03             1,177 factorial .ipynb\n",
      "05-06-2019  23:01    <DIR>          Favorites\n",
      "11-07-2019  10:37               220 file.txt\n",
      "11-07-2019  10:37               420 file2.txt\n",
      "22-06-2019  05:06             1,177 Function.ipynb\n",
      "05-06-2019  23:01    <DIR>          Links\n",
      "22-06-2019  04:43             1,666 loops and Functional programming.ipynb\n",
      "22-06-2019  04:49             1,864 loops statements.ipynb\n",
      "05-06-2019  23:01    <DIR>          Music\n",
      "05-06-2019  23:01    <DIR>          Pictures\n",
      "08-07-2019  15:39             8,688 python aman.ipynb\n",
      "05-06-2019  23:01    <DIR>          Saved Games\n",
      "05-06-2019  23:01    <DIR>          Searches\n",
      "21-06-2019  04:53               555 Untitled.ipynb\n",
      "21-06-2019  05:20               568 Untitled1.ipynb\n",
      "25-06-2019  11:04             1,524 Untitled10.ipynb\n",
      "27-06-2019  09:25               555 Untitled11.ipynb\n",
      "27-06-2019  17:10            12,331 Untitled12.ipynb\n",
      "27-06-2019  17:12               555 Untitled13.ipynb\n",
      "08-07-2019  11:07             4,993 Untitled14.ipynb\n",
      "21-06-2019  06:57             1,556 Untitled2.ipynb\n",
      "22-06-2019  00:27             2,025 Untitled3.ipynb\n",
      "23-06-2019  23:02               555 Untitled4.ipynb\n",
      "23-06-2019  23:06               555 Untitled5.ipynb\n",
      "23-06-2019  09:53             2,611 Untitled6.ipynb\n",
      "24-06-2019  11:46             3,653 Untitled7.ipynb\n",
      "24-06-2019  11:32                72 Untitled8.ipynb\n",
      "25-06-2019  09:28             1,365 Untitled9.ipynb\n",
      "05-06-2019  23:01    <DIR>          Videos\n",
      "              30 File(s)         96,499 bytes\n",
      "              18 Dir(s)  55,095,910,400 bytes free\n"
     ]
    }
   ],
   "source": [
    "ls\n"
   ]
  },
  {
   "cell_type": "code",
   "execution_count": 38,
   "metadata": {},
   "outputs": [
    {
     "ename": "SyntaxError",
     "evalue": "invalid syntax (<ipython-input-38-8fd345acf7e7>, line 1)",
     "output_type": "error",
     "traceback": [
      "\u001b[1;36m  File \u001b[1;32m\"<ipython-input-38-8fd345acf7e7>\"\u001b[1;36m, line \u001b[1;32m1\u001b[0m\n\u001b[1;33m    from pathlib.import path\u001b[0m\n\u001b[1;37m                      ^\u001b[0m\n\u001b[1;31mSyntaxError\u001b[0m\u001b[1;31m:\u001b[0m invalid syntax\n"
     ]
    }
   ],
   "source": [
    "from pathlib.import path\n",
    "li =path('Git/')\n",
    "for i in li.iterdir():\n",
    "    print(i.name)"
   ]
  },
  {
   "cell_type": "code",
   "execution_count": 39,
   "metadata": {},
   "outputs": [
    {
     "ename": "SyntaxError",
     "evalue": "invalid syntax (<ipython-input-39-7bcafbe5286e>, line 1)",
     "output_type": "error",
     "traceback": [
      "\u001b[1;36m  File \u001b[1;32m\"<ipython-input-39-7bcafbe5286e>\"\u001b[1;36m, line \u001b[1;32m1\u001b[0m\n\u001b[1;33m    from pathlib from path\u001b[0m\n\u001b[1;37m                    ^\u001b[0m\n\u001b[1;31mSyntaxError\u001b[0m\u001b[1;31m:\u001b[0m invalid syntax\n"
     ]
    }
   ],
   "source": [
    "from pathlib from path\n",
    "dirpath='Git/'\n",
    "with os.scandir(dirpath) as f:\n",
    "    for i in f:\n",
    "        if i.is_file():\n",
    "            print(i.name)"
   ]
  },
  {
   "cell_type": "code",
   "execution_count": 41,
   "metadata": {},
   "outputs": [
    {
     "name": "stdout",
     "output_type": "stream",
     "text": [
      "C:\\Users\n"
     ]
    }
   ],
   "source": [
    "cd ..\n"
   ]
  },
  {
   "cell_type": "code",
   "execution_count": 43,
   "metadata": {},
   "outputs": [
    {
     "name": "stdout",
     "output_type": "stream",
     "text": [
      "[WinError 3] The system cannot find the path specified: 'desktop/pythonprog'\n",
      "C:\\Users\n"
     ]
    }
   ],
   "source": [
    "cd "
   ]
  },
  {
   "cell_type": "code",
   "execution_count": 44,
   "metadata": {},
   "outputs": [
    {
     "name": "stdout",
     "output_type": "stream",
     "text": [
      " Volume in drive C has no label.\n",
      " Volume Serial Number is 48A3-53C6\n",
      "\n",
      " Directory of C:\\Users\n",
      "\n",
      "07-06-2019  01:26    <DIR>          .\n",
      "07-06-2019  01:26    <DIR>          ..\n",
      "11-07-2019  14:39    <DIR>          220\n",
      "11-04-2011  16:24    <DIR>          Public\n",
      "08-07-2019  09:09    <DIR>          student\n",
      "               0 File(s)              0 bytes\n",
      "               5 Dir(s)  55,082,061,824 bytes free\n"
     ]
    }
   ],
   "source": [
    "ls\n"
   ]
  },
  {
   "cell_type": "code",
   "execution_count": 45,
   "metadata": {},
   "outputs": [
    {
     "data": {
      "text/plain": [
       "'C:\\\\Users'"
      ]
     },
     "execution_count": 45,
     "metadata": {},
     "output_type": "execute_result"
    }
   ],
   "source": [
    "pwd"
   ]
  },
  {
   "cell_type": "code",
   "execution_count": 48,
   "metadata": {},
   "outputs": [
    {
     "ename": "SyntaxError",
     "evalue": "invalid syntax (<ipython-input-48-9f12e0f14249>, line 1)",
     "output_type": "error",
     "traceback": [
      "\u001b[1;36m  File \u001b[1;32m\"<ipython-input-48-9f12e0f14249>\"\u001b[1;36m, line \u001b[1;32m1\u001b[0m\n\u001b[1;33m    rom pathlib import Path\u001b[0m\n\u001b[1;37m              ^\u001b[0m\n\u001b[1;31mSyntaxError\u001b[0m\u001b[1;31m:\u001b[0m invalid syntax\n"
     ]
    }
   ],
   "source": [
    "rom pathlib import Path\n",
    "dirPath = 'C:\\\\Users'\n",
    "for i in os.listdir(dirPath):\n",
    "   if os.path.isdir(os.path.join(dirPath,i)):\n",
    "       print(i)"
   ]
  },
  {
   "cell_type": "code",
   "execution_count": null,
   "metadata": {},
   "outputs": [],
   "source": []
  },
  {
   "cell_type": "code",
   "execution_count": null,
   "metadata": {},
   "outputs": [],
   "source": []
  }
 ],
 "metadata": {
  "kernelspec": {
   "display_name": "Python 3",
   "language": "python",
   "name": "python3"
  },
  "language_info": {
   "codemirror_mode": {
    "name": "ipython",
    "version": 3
   },
   "file_extension": ".py",
   "mimetype": "text/x-python",
   "name": "python",
   "nbconvert_exporter": "python",
   "pygments_lexer": "ipython3",
   "version": "3.7.3"
  }
 },
 "nbformat": 4,
 "nbformat_minor": 2
}
