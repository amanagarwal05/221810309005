{
 "cells": [
  {
   "cell_type": "code",
   "execution_count": 1,
   "metadata": {},
   "outputs": [
    {
     "name": "stdout",
     "output_type": "stream",
     "text": [
      "{'name': 'gitam', 'emailid': 'gitam@gmail.com', 'address': 'rudraram'}\n"
     ]
    }
   ],
   "source": [
    "d1={\"name\":\"gitam\",\"emailid\":\"gitam@gmail.com\",\"address\":\"rudraram\"}\n",
    "print(d1)"
   ]
  },
  {
   "cell_type": "code",
   "execution_count": 2,
   "metadata": {},
   "outputs": [
    {
     "data": {
      "text/plain": [
       "'gitam'"
      ]
     },
     "execution_count": 2,
     "metadata": {},
     "output_type": "execute_result"
    }
   ],
   "source": [
    "d1[\"name\"]"
   ]
  },
  {
   "cell_type": "code",
   "execution_count": 4,
   "metadata": {},
   "outputs": [
    {
     "data": {
      "text/plain": [
       "tuple"
      ]
     },
     "execution_count": 4,
     "metadata": {},
     "output_type": "execute_result"
    }
   ],
   "source": [
    "t1=(1,2,3,4,5,6)\n",
    "t1\n",
    "type(t1)"
   ]
  },
  {
   "cell_type": "code",
   "execution_count": 5,
   "metadata": {},
   "outputs": [
    {
     "data": {
      "text/plain": [
       "'gitam@gmail.com'"
      ]
     },
     "execution_count": 5,
     "metadata": {},
     "output_type": "execute_result"
    }
   ],
   "source": [
    "d1[\"emailid\"]"
   ]
  },
  {
   "cell_type": "markdown",
   "metadata": {},
   "source": [
    "### Tuples\n",
    "* t1 parenthesis{} li square brackets[]\n",
    "* difference between list and tuples\n",
    "    -list are mutable  -can be changed/modified\n",
    "     -used to access modify,add,delete data\n",
    "    -Tuples are immutable-cannot be changed\n",
    "     -Used to access data only"
   ]
  },
  {
   "cell_type": "code",
   "execution_count": 10,
   "metadata": {},
   "outputs": [
    {
     "name": "stdout",
     "output_type": "stream",
     "text": [
      "contact details are added\n",
      "contact details are added\n",
      "contact details are already exists\n"
     ]
    }
   ],
   "source": [
    "contacts={}#creating a dict object\n",
    "def addcontact(name,phone):\n",
    "    if name not in contacts:\n",
    "        contacts[name]=phone\n",
    "        print(\"contact details are added\")\n",
    "    else:\n",
    "        print(\"contact details are already exists\")\n",
    "    return\n",
    "addcontact('DJ','9398654872')\n",
    "addcontact('JAGDISH','7799538070')\n",
    "addcontact('DJ','9398654872')"
   ]
  },
  {
   "cell_type": "code",
   "execution_count": 11,
   "metadata": {},
   "outputs": [
    {
     "name": "stdout",
     "output_type": "stream",
     "text": [
      "DJ : 9398654872\n",
      "JAGDISH : 7799538070\n",
      "manish does not exist\n"
     ]
    }
   ],
   "source": [
    "#search for contact details\n",
    "def searchContact(name):\n",
    "    if name in contacts:\n",
    "        print(name,\":\",contacts[name])\n",
    "    else:\n",
    "        print(\"%s does not exist\"% name)\n",
    "    return\n",
    "searchContact('DJ')\n",
    "searchContact('JAGDISH')\n",
    "searchContact('manish')"
   ]
  },
  {
   "cell_type": "code",
   "execution_count": 14,
   "metadata": {},
   "outputs": [
    {
     "name": "stdout",
     "output_type": "stream",
     "text": [
      "2 contacts added successfully\n"
     ]
    }
   ],
   "source": [
    "def importcontact(newcontacts):\n",
    "    contacts.update(newcontacts)\n",
    "    print(len(newcontacts.keys()),\"contacts added successfully\")\n",
    "    return\n",
    "newcontacts={'sreeram':9325565545,'chemma':98476564834}\n",
    "importcontact(newcontacts)"
   ]
  },
  {
   "cell_type": "code",
   "execution_count": 15,
   "metadata": {},
   "outputs": [
    {
     "data": {
      "text/plain": [
       "{'DJ': '9398654872',\n",
       " 'JAGDISH': '7799538070',\n",
       " 'sreeram': 9325565545,\n",
       " 'aman': 98476564834,\n",
       " 'chemma': 98476564834}"
      ]
     },
     "execution_count": 15,
     "metadata": {},
     "output_type": "execute_result"
    }
   ],
   "source": [
    "contacts"
   ]
  },
  {
   "cell_type": "code",
   "execution_count": 16,
   "metadata": {},
   "outputs": [
    {
     "name": "stdout",
     "output_type": "stream",
     "text": [
      "aman deleted successfully\n"
     ]
    }
   ],
   "source": [
    "#delete a contact\n",
    "def deletecontact(name):\n",
    "    if name in contacts:\n",
    "        del contacts[name]\n",
    "        print(name,\"deleted successfully\")\n",
    "    else:\n",
    "        print(name,\"not exists\")\n",
    "    return\n",
    "deletecontact('aman')"
   ]
  },
  {
   "cell_type": "code",
   "execution_count": 17,
   "metadata": {},
   "outputs": [
    {
     "data": {
      "text/plain": [
       "{'DJ': '9398654872',\n",
       " 'JAGDISH': '7799538070',\n",
       " 'sreeram': 9325565545,\n",
       " 'chemma': 98476564834}"
      ]
     },
     "execution_count": 17,
     "metadata": {},
     "output_type": "execute_result"
    }
   ],
   "source": [
    "contacts\n"
   ]
  },
  {
   "cell_type": "code",
   "execution_count": 18,
   "metadata": {},
   "outputs": [
    {
     "name": "stdout",
     "output_type": "stream",
     "text": [
      "How many terms? 5\n",
      "Fibonacci sequence:\n",
      "0\n",
      "1\n",
      "1\n",
      "2\n",
      "3\n"
     ]
    }
   ],
   "source": [
    "def recur_fibo(n):  \n",
    "    if n <= 1:  \n",
    "        return n  \n",
    "    else:  \n",
    "        return(recur_fibo(n-1) + recur_fibo(n-2))  \n",
    "# take input from the user  \n",
    "nterms = int(input(\"How many terms? \"))  \n",
    "# check if the number of terms is valid  \n",
    "if nterms <= 0:  \n",
    "    print(\"Plese enter a positive integer\")  \n",
    "else:  \n",
    "    print(\"Fibonacci sequence:\")  \n",
    "    for i in range(nterms):  \n",
    "        print(recur_fibo(i))  "
   ]
  },
  {
   "cell_type": "code",
   "execution_count": 19,
   "metadata": {},
   "outputs": [
    {
     "name": "stdout",
     "output_type": "stream",
     "text": [
      "3 2 1 1 0 "
     ]
    }
   ],
   "source": [
    "def reverseFibonacci(n):\n",
    "   \n",
    "    a = [0] * n \n",
    "    a[0] = 0 \n",
    "    a[1] = 1 \n",
    "  \n",
    "    for i in range(2, n):  \n",
    "        a[i] = a[i - 2] + a[i - 1] \n",
    "    for i in range(n - 1, -1 , -1):  \n",
    "        print(a[i],end=\" \") \n",
    "n = 5 \n",
    "reverseFibonacci(n)  "
   ]
  },
  {
   "cell_type": "code",
   "execution_count": 20,
   "metadata": {},
   "outputs": [
    {
     "name": "stdout",
     "output_type": "stream",
     "text": [
      "Python programming\n"
     ]
    }
   ],
   "source": [
    "li=[\"Python\",\"programming\"]\n",
    "print(\"%s %s\"%(li[0],li[1]))"
   ]
  },
  {
   "cell_type": "code",
   "execution_count": 21,
   "metadata": {},
   "outputs": [
    {
     "name": "stdout",
     "output_type": "stream",
     "text": [
      "Pythonprogramming\n"
     ]
    }
   ],
   "source": [
    "print(\"{0}{1}\".format(li[0],li[1]))"
   ]
  },
  {
   "cell_type": "code",
   "execution_count": 22,
   "metadata": {},
   "outputs": [
    {
     "name": "stdout",
     "output_type": "stream",
     "text": [
      "GITAM\n",
      "gitam\n"
     ]
    }
   ],
   "source": [
    "s1=\"gitam\"\n",
    "print(s1.upper())\n",
    "print(s1.lower())"
   ]
  },
  {
   "cell_type": "code",
   "execution_count": 23,
   "metadata": {},
   "outputs": [
    {
     "name": "stdout",
     "output_type": "stream",
     "text": [
      "False\n",
      "True\n"
     ]
    }
   ],
   "source": [
    "s1=\"GITAM\"\n",
    "print(s1.islower())\n",
    "print(s1.isupper())"
   ]
  },
  {
   "cell_type": "code",
   "execution_count": 26,
   "metadata": {},
   "outputs": [
    {
     "name": "stdout",
     "output_type": "stream",
     "text": [
      "True\n",
      "True\n"
     ]
    }
   ],
   "source": [
    "s2=\"Python Programming\"\n",
    "s3='Python Programming'\n",
    "print(s2.istitle())\n",
    "print(s3.istitle())"
   ]
  },
  {
   "cell_type": "code",
   "execution_count": 28,
   "metadata": {},
   "outputs": [
    {
     "name": "stdout",
     "output_type": "stream",
     "text": [
      "True\n",
      "False\n"
     ]
    }
   ],
   "source": [
    "s1=\" \"\n",
    "s2=\"py th on\"\n",
    "print(s1.isspace())\n",
    "print(s2.isspace())"
   ]
  },
  {
   "cell_type": "code",
   "execution_count": 29,
   "metadata": {},
   "outputs": [
    {
     "name": "stdout",
     "output_type": "stream",
     "text": [
      "False\n",
      "True\n"
     ]
    }
   ],
   "source": [
    "s2 =\"Application1889\"\n",
    "s3 ='PythonProgramming'\n",
    "print(s2.isalpha())\n",
    "print(s3.isalpha())\n"
   ]
  },
  {
   "cell_type": "code",
   "execution_count": 30,
   "metadata": {},
   "outputs": [
    {
     "name": "stdout",
     "output_type": "stream",
     "text": [
      "['1', '2', '3', '3', '5', '2']\n"
     ]
    },
    {
     "data": {
      "text/plain": [
       "6"
      ]
     },
     "execution_count": 30,
     "metadata": {},
     "output_type": "execute_result"
    }
   ],
   "source": [
    "def cotCharOuc(s,c):\n",
    "    return s.count(c)\n",
    "def number(n,s):\n",
    "    ns=list(s)\n",
    "    su=0\n",
    "    print(ns)\n",
    "    for i in range(n):\n",
    "        count=ns.count(ns[i])\n",
    "        if count==1:\n",
    "            su=su+int(ns[i])\n",
    "    return su\n",
    "s=\"123352\"\n",
    "number(6,s)"
   ]
  },
  {
   "cell_type": "code",
   "execution_count": 31,
   "metadata": {},
   "outputs": [
    {
     "name": "stdout",
     "output_type": "stream",
     "text": [
      "w h\n",
      "a i\n",
      "t g\n",
      "e h\n",
      "r e\n",
      "r r\n",
      "r *\n",
      "['1', '2', '3', '3', '5', '2']\n"
     ]
    },
    {
     "data": {
      "text/plain": [
       "6"
      ]
     },
     "execution_count": 31,
     "metadata": {},
     "output_type": "execute_result"
    }
   ],
   "source": [
    "s1=\"waterrr\"\n",
    "s2=\"higher\"\n",
    "if len(s1)>len(s2):\n",
    "    for i in range(len(s1)):\n",
    "            if i<len(s1)-1:\n",
    "                print(s1[i],s2[i])\n",
    "            else:\n",
    "                print(s1[i],\"*\")\n",
    "            \n",
    "elif len(s2)>len(s1):\n",
    "    for i in range(len(s2)):\n",
    "            if i<len(s2)-1:\n",
    "                print(s1[i],s2[i])\n",
    "            else:\n",
    "                print(\"*\",s2[i])\n",
    "def number(n,s):\n",
    "    ns=list(s)\n",
    "    su=0\n",
    "    print(ns)\n",
    "    for i in range(n):\n",
    "        count=ns.count(ns[i])\n",
    "        if count==1:\n",
    "            su=su+int(ns[i])\n",
    "    return su\n",
    "s=\"123352\"\n",
    "number(6,s)"
   ]
  },
  {
   "cell_type": "code",
   "execution_count": 36,
   "metadata": {},
   "outputs": [
    {
     "name": "stdout",
     "output_type": "stream",
     "text": [
      "INPUT = good morning\n",
      "morning\n"
     ]
    }
   ],
   "source": [
    "s=input(\"INPUT = \")\n",
    "for i in range(len(s)):\n",
    "    if ord(s[i])==32:\n",
    "        s1=s[0:i]\n",
    "        s2=s[i+1:]\n",
    "if len(s1)>len(s2):\n",
    "    print(s1)\n",
    "if len(s2)>len(s1):\n",
    "    print(s2)                            "
   ]
  },
  {
   "cell_type": "code",
   "execution_count": 37,
   "metadata": {},
   "outputs": [
    {
     "name": "stdout",
     "output_type": "stream",
     "text": [
      "Hbontch\n"
     ]
    }
   ],
   "source": [
    "def removeChar(s, c) : \n",
    "   counts = s.count(c) \n",
    "   s = list(s) \n",
    "   while counts : \n",
    "       s.remove(c) \n",
    "       counts -= 1\n",
    "   s = '' . join(s)       \n",
    "   print(s) \n",
    "if __name__ == '__main__' :      \n",
    "   s = \"Hebeontech\"\n",
    "   removeChar(s,'e') "
   ]
  },
  {
   "cell_type": "code",
   "execution_count": 40,
   "metadata": {},
   "outputs": [
    {
     "name": "stdout",
     "output_type": "stream",
     "text": [
      "TESTING"
     ]
    }
   ],
   "source": [
    "def wordUpperCase(s):\n",
    "   spaceCnt = 0\n",
    "   for x in range(len(s)):\n",
    "       if ord(s[x]) == 32:\n",
    "           spaceCnt += 1\n",
    "       if spaceCnt == 1:\n",
    "           if ord(s[x]) >= 65 and ord(s[x]) <= 90:\n",
    "               print(s[x],end=\"\")\n",
    "           elif ord(s[x]) >= 97 and ord(s[x]) <= 122:\n",
    "               print(chr(ord(s[x])-32),end=\"\")\n",
    "       if spaceCnt == 2:\n",
    "           break\n",
    "   return\n",
    "wordUpperCase('application Testing')"
   ]
  },
  {
   "cell_type": "code",
   "execution_count": null,
   "metadata": {},
   "outputs": [],
   "source": []
  }
 ],
 "metadata": {
  "kernelspec": {
   "display_name": "Python 3",
   "language": "python",
   "name": "python3"
  },
  "language_info": {
   "codemirror_mode": {
    "name": "ipython",
    "version": 3
   },
   "file_extension": ".py",
   "mimetype": "text/x-python",
   "name": "python",
   "nbconvert_exporter": "python",
   "pygments_lexer": "ipython3",
   "version": "3.7.3"
  }
 },
 "nbformat": 4,
 "nbformat_minor": 2
}
